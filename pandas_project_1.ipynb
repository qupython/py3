{
 "cells": [
  {
   "cell_type": "code",
   "execution_count": 2,
   "metadata": {},
   "outputs": [],
   "source": [
    "import numpy as np\n",
    "import pandas as pd\n",
    "import seaborn as sns\n",
    "import matplotlib.pyplot as plt\n",
    "import warnings\n",
    "warnings.filterwarnings(\"ignore\")\n",
    "import os"
   ]
  },
  {
   "cell_type": "code",
   "execution_count": 10,
   "metadata": {
    "scrolled": false
   },
   "outputs": [],
   "source": [
    "#file = 'Example.xlsx'\n",
    "#sheet1 = pd.read_excel(file, sheet_name = 0 , index_col = 0)\n",
    "#newData = pd.concat([sheet1, sheet2])\n",
    "\n",
    "data = pd.read_excel('C:/Users/USER/desktop/data_1.xlsx')\n",
    "\n",
    "#data_new.to_excel('Output File.xlsx')"
   ]
  },
  {
   "cell_type": "code",
   "execution_count": 11,
   "metadata": {},
   "outputs": [
    {
     "data": {
      "text/html": [
       "<div>\n",
       "<style scoped>\n",
       "    .dataframe tbody tr th:only-of-type {\n",
       "        vertical-align: middle;\n",
       "    }\n",
       "\n",
       "    .dataframe tbody tr th {\n",
       "        vertical-align: top;\n",
       "    }\n",
       "\n",
       "    .dataframe thead th {\n",
       "        text-align: right;\n",
       "    }\n",
       "</style>\n",
       "<table border=\"1\" class=\"dataframe\">\n",
       "  <thead>\n",
       "    <tr style=\"text-align: right;\">\n",
       "      <th></th>\n",
       "      <th>ID</th>\n",
       "      <th>سال بهره برداري</th>\n",
       "      <th>وضعیت رکورد</th>\n",
       "      <th>کد ساختمان</th>\n",
       "      <th>کد طبقه</th>\n",
       "      <th>طبقه</th>\n",
       "      <th>کد اتاق</th>\n",
       "      <th>شماره اتاق</th>\n",
       "      <th>شماره جدید 96</th>\n",
       "      <th>عنوان</th>\n",
       "      <th>عنوان جدید96</th>\n",
       "      <th>مساحت</th>\n",
       "      <th>کاربری اصلی</th>\n",
       "      <th>کاربری</th>\n",
       "    </tr>\n",
       "  </thead>\n",
       "  <tbody>\n",
       "    <tr>\n",
       "      <th>0</th>\n",
       "      <td>1</td>\n",
       "      <td>1390</td>\n",
       "      <td>فعال</td>\n",
       "      <td>10</td>\n",
       "      <td>0</td>\n",
       "      <td>همکف</td>\n",
       "      <td>1000100</td>\n",
       "      <td>100</td>\n",
       "      <td>100</td>\n",
       "      <td>ورودی</td>\n",
       "      <td>ورودی</td>\n",
       "      <td>43.5</td>\n",
       "      <td>عمومی</td>\n",
       "      <td>NaN</td>\n",
       "    </tr>\n",
       "    <tr>\n",
       "      <th>1</th>\n",
       "      <td>2</td>\n",
       "      <td>1390</td>\n",
       "      <td>فعال</td>\n",
       "      <td>10</td>\n",
       "      <td>0</td>\n",
       "      <td>همکف</td>\n",
       "      <td>1000101</td>\n",
       "      <td>101</td>\n",
       "      <td>101</td>\n",
       "      <td>اطلاعات</td>\n",
       "      <td>اطلاعات</td>\n",
       "      <td>8.0</td>\n",
       "      <td>پشتیبانی</td>\n",
       "      <td>NaN</td>\n",
       "    </tr>\n",
       "    <tr>\n",
       "      <th>2</th>\n",
       "      <td>3</td>\n",
       "      <td>1390</td>\n",
       "      <td>فعال</td>\n",
       "      <td>10</td>\n",
       "      <td>0</td>\n",
       "      <td>همکف</td>\n",
       "      <td>1000102</td>\n",
       "      <td>102</td>\n",
       "      <td>102</td>\n",
       "      <td>اتاق کارمندان</td>\n",
       "      <td>کارشناس مسئول آموزش</td>\n",
       "      <td>14.6</td>\n",
       "      <td>اداری</td>\n",
       "      <td>NaN</td>\n",
       "    </tr>\n",
       "    <tr>\n",
       "      <th>3</th>\n",
       "      <td>4</td>\n",
       "      <td>1390</td>\n",
       "      <td>فعال</td>\n",
       "      <td>10</td>\n",
       "      <td>0</td>\n",
       "      <td>همکف</td>\n",
       "      <td>1000103</td>\n",
       "      <td>103</td>\n",
       "      <td>103</td>\n",
       "      <td>اتاق کارمندان</td>\n",
       "      <td>کارشناس آموزش</td>\n",
       "      <td>15.2</td>\n",
       "      <td>اداری</td>\n",
       "      <td>NaN</td>\n",
       "    </tr>\n",
       "    <tr>\n",
       "      <th>4</th>\n",
       "      <td>5</td>\n",
       "      <td>1390</td>\n",
       "      <td>فعال</td>\n",
       "      <td>10</td>\n",
       "      <td>0</td>\n",
       "      <td>همکف</td>\n",
       "      <td>1000104</td>\n",
       "      <td>104</td>\n",
       "      <td>104</td>\n",
       "      <td>اتاق اساتید</td>\n",
       "      <td>اتاق اساتید</td>\n",
       "      <td>19.8</td>\n",
       "      <td>آموزشی</td>\n",
       "      <td>آموزشی و کمک آموزشی</td>\n",
       "    </tr>\n",
       "    <tr>\n",
       "      <th>5</th>\n",
       "      <td>6</td>\n",
       "      <td>1390</td>\n",
       "      <td>فعال</td>\n",
       "      <td>10</td>\n",
       "      <td>0</td>\n",
       "      <td>همکف</td>\n",
       "      <td>1000105</td>\n",
       "      <td>105</td>\n",
       "      <td>105</td>\n",
       "      <td>اتاق کارمندان</td>\n",
       "      <td>کارشناس آموزش</td>\n",
       "      <td>14.9</td>\n",
       "      <td>اداری</td>\n",
       "      <td>NaN</td>\n",
       "    </tr>\n",
       "    <tr>\n",
       "      <th>6</th>\n",
       "      <td>7</td>\n",
       "      <td>1390</td>\n",
       "      <td>فعال</td>\n",
       "      <td>10</td>\n",
       "      <td>0</td>\n",
       "      <td>همکف</td>\n",
       "      <td>1000106</td>\n",
       "      <td>106</td>\n",
       "      <td>106</td>\n",
       "      <td>اتاق کارمندان</td>\n",
       "      <td>کارشناس آموزش</td>\n",
       "      <td>12.9</td>\n",
       "      <td>اداری</td>\n",
       "      <td>NaN</td>\n",
       "    </tr>\n",
       "    <tr>\n",
       "      <th>7</th>\n",
       "      <td>8</td>\n",
       "      <td>1390</td>\n",
       "      <td>فعال</td>\n",
       "      <td>10</td>\n",
       "      <td>0</td>\n",
       "      <td>همکف</td>\n",
       "      <td>1000107</td>\n",
       "      <td>107</td>\n",
       "      <td>107</td>\n",
       "      <td>سرویس بهداشتی</td>\n",
       "      <td>سرویس بهداشتی</td>\n",
       "      <td>15.9</td>\n",
       "      <td>عمومی</td>\n",
       "      <td>NaN</td>\n",
       "    </tr>\n",
       "    <tr>\n",
       "      <th>8</th>\n",
       "      <td>9</td>\n",
       "      <td>1390</td>\n",
       "      <td>فعال</td>\n",
       "      <td>10</td>\n",
       "      <td>0</td>\n",
       "      <td>همکف</td>\n",
       "      <td>1000108</td>\n",
       "      <td>108</td>\n",
       "      <td>108</td>\n",
       "      <td>کلاس</td>\n",
       "      <td>کلاس 5001</td>\n",
       "      <td>34.0</td>\n",
       "      <td>آموزشی</td>\n",
       "      <td>آموزشی و کمک آموزشی</td>\n",
       "    </tr>\n",
       "    <tr>\n",
       "      <th>9</th>\n",
       "      <td>10</td>\n",
       "      <td>1390</td>\n",
       "      <td>فعال</td>\n",
       "      <td>10</td>\n",
       "      <td>0</td>\n",
       "      <td>همکف</td>\n",
       "      <td>1000109</td>\n",
       "      <td>109</td>\n",
       "      <td>109</td>\n",
       "      <td>کلاس</td>\n",
       "      <td>کلاس 5002</td>\n",
       "      <td>35.4</td>\n",
       "      <td>آموزشی</td>\n",
       "      <td>آموزشی و کمک آموزشی</td>\n",
       "    </tr>\n",
       "  </tbody>\n",
       "</table>\n",
       "</div>"
      ],
      "text/plain": [
       "   ID  سال بهره برداري وضعیت رکورد  کد ساختمان  کد طبقه  طبقه  کد اتاق  \\\n",
       "0   1             1390        فعال          10        0  همکف  1000100   \n",
       "1   2             1390        فعال          10        0  همکف  1000101   \n",
       "2   3             1390        فعال          10        0  همکف  1000102   \n",
       "3   4             1390        فعال          10        0  همکف  1000103   \n",
       "4   5             1390        فعال          10        0  همکف  1000104   \n",
       "5   6             1390        فعال          10        0  همکف  1000105   \n",
       "6   7             1390        فعال          10        0  همکف  1000106   \n",
       "7   8             1390        فعال          10        0  همکف  1000107   \n",
       "8   9             1390        فعال          10        0  همکف  1000108   \n",
       "9  10             1390        فعال          10        0  همکف  1000109   \n",
       "\n",
       "  شماره اتاق شماره جدید 96          عنوان         عنوان جدید96  مساحت  \\\n",
       "0        100           100          ورودی                ورودی   43.5   \n",
       "1        101           101        اطلاعات              اطلاعات    8.0   \n",
       "2        102           102  اتاق کارمندان  کارشناس مسئول آموزش   14.6   \n",
       "3        103           103  اتاق کارمندان        کارشناس آموزش   15.2   \n",
       "4        104           104    اتاق اساتید          اتاق اساتید   19.8   \n",
       "5        105           105  اتاق کارمندان        کارشناس آموزش   14.9   \n",
       "6        106           106  اتاق کارمندان        کارشناس آموزش   12.9   \n",
       "7        107           107  سرویس بهداشتی        سرویس بهداشتی   15.9   \n",
       "8        108           108           کلاس            کلاس 5001   34.0   \n",
       "9        109           109           کلاس            کلاس 5002   35.4   \n",
       "\n",
       "  کاربری اصلی              کاربری   \n",
       "0       عمومی                  NaN  \n",
       "1    پشتیبانی                  NaN  \n",
       "2       اداری                  NaN  \n",
       "3       اداری                  NaN  \n",
       "4      آموزشی  آموزشی و کمک آموزشی  \n",
       "5       اداری                  NaN  \n",
       "6       اداری                  NaN  \n",
       "7       عمومی                  NaN  \n",
       "8      آموزشی  آموزشی و کمک آموزشی  \n",
       "9      آموزشی  آموزشی و کمک آموزشی  "
      ]
     },
     "execution_count": 11,
     "metadata": {},
     "output_type": "execute_result"
    }
   ],
   "source": [
    "data.head(10)"
   ]
  },
  {
   "cell_type": "code",
   "execution_count": 6,
   "metadata": {},
   "outputs": [
    {
     "data": {
      "text/plain": [
       "(141, 14)"
      ]
     },
     "execution_count": 6,
     "metadata": {},
     "output_type": "execute_result"
    }
   ],
   "source": [
    "data.shape"
   ]
  },
  {
   "cell_type": "code",
   "execution_count": 7,
   "metadata": {},
   "outputs": [
    {
     "name": "stdout",
     "output_type": "stream",
     "text": [
      "<class 'pandas.core.frame.DataFrame'>\n",
      "RangeIndex: 141 entries, 0 to 140\n",
      "Data columns (total 14 columns):\n",
      " #   Column           Non-Null Count  Dtype  \n",
      "---  ------           --------------  -----  \n",
      " 0   ID               141 non-null    object \n",
      " 1   سال بهره برداري  141 non-null    int64  \n",
      " 2   وضعیت رکورد      141 non-null    object \n",
      " 3   کد ساختمان       141 non-null    int64  \n",
      " 4   کد طبقه          141 non-null    int64  \n",
      " 5   طبقه             141 non-null    object \n",
      " 6   کد اتاق          141 non-null    object \n",
      " 7   شماره اتاق       141 non-null    object \n",
      " 8   شماره جدید 96    141 non-null    object \n",
      " 9   عنوان            141 non-null    object \n",
      " 10  عنوان جدید96     141 non-null    object \n",
      " 11  مساحت            141 non-null    float64\n",
      " 12  کاربری اصلی      141 non-null    object \n",
      " 13  کاربری           110 non-null    object \n",
      "dtypes: float64(1), int64(3), object(10)\n",
      "memory usage: 15.6+ KB\n"
     ]
    }
   ],
   "source": [
    "data.info()"
   ]
  },
  {
   "cell_type": "code",
   "execution_count": 8,
   "metadata": {},
   "outputs": [
    {
     "data": {
      "text/html": [
       "<div>\n",
       "<style scoped>\n",
       "    .dataframe tbody tr th:only-of-type {\n",
       "        vertical-align: middle;\n",
       "    }\n",
       "\n",
       "    .dataframe tbody tr th {\n",
       "        vertical-align: top;\n",
       "    }\n",
       "\n",
       "    .dataframe thead th {\n",
       "        text-align: right;\n",
       "    }\n",
       "</style>\n",
       "<table border=\"1\" class=\"dataframe\">\n",
       "  <thead>\n",
       "    <tr style=\"text-align: right;\">\n",
       "      <th></th>\n",
       "      <th>کد ساختمان</th>\n",
       "      <th>کد اتاق</th>\n",
       "    </tr>\n",
       "  </thead>\n",
       "  <tbody>\n",
       "    <tr>\n",
       "      <th>0</th>\n",
       "      <td>10</td>\n",
       "      <td>1000100</td>\n",
       "    </tr>\n",
       "    <tr>\n",
       "      <th>1</th>\n",
       "      <td>10</td>\n",
       "      <td>1000101</td>\n",
       "    </tr>\n",
       "    <tr>\n",
       "      <th>2</th>\n",
       "      <td>10</td>\n",
       "      <td>1000102</td>\n",
       "    </tr>\n",
       "    <tr>\n",
       "      <th>3</th>\n",
       "      <td>10</td>\n",
       "      <td>1000103</td>\n",
       "    </tr>\n",
       "    <tr>\n",
       "      <th>4</th>\n",
       "      <td>10</td>\n",
       "      <td>1000104</td>\n",
       "    </tr>\n",
       "    <tr>\n",
       "      <th>5</th>\n",
       "      <td>10</td>\n",
       "      <td>1000105</td>\n",
       "    </tr>\n",
       "    <tr>\n",
       "      <th>6</th>\n",
       "      <td>10</td>\n",
       "      <td>1000106</td>\n",
       "    </tr>\n",
       "    <tr>\n",
       "      <th>7</th>\n",
       "      <td>10</td>\n",
       "      <td>1000107</td>\n",
       "    </tr>\n",
       "    <tr>\n",
       "      <th>8</th>\n",
       "      <td>10</td>\n",
       "      <td>1000108</td>\n",
       "    </tr>\n",
       "    <tr>\n",
       "      <th>9</th>\n",
       "      <td>10</td>\n",
       "      <td>1000109</td>\n",
       "    </tr>\n",
       "  </tbody>\n",
       "</table>\n",
       "</div>"
      ],
      "text/plain": [
       "   کد ساختمان  کد اتاق\n",
       "0          10  1000100\n",
       "1          10  1000101\n",
       "2          10  1000102\n",
       "3          10  1000103\n",
       "4          10  1000104\n",
       "5          10  1000105\n",
       "6          10  1000106\n",
       "7          10  1000107\n",
       "8          10  1000108\n",
       "9          10  1000109"
      ]
     },
     "execution_count": 8,
     "metadata": {},
     "output_type": "execute_result"
    }
   ],
   "source": [
    "data1=data[['کد ساختمان','کد اتاق']]\n",
    "data1.head(10)\n"
   ]
  },
  {
   "cell_type": "code",
   "execution_count": 9,
   "metadata": {},
   "outputs": [
    {
     "name": "stdout",
     "output_type": "stream",
     "text": [
      "   کد ساختمان  کد اتاق\n",
      "0          10  1000100\n",
      "1          10  1000101\n",
      "2          10  1000102\n",
      "3          10  1000103\n",
      "4          10  1000104\n"
     ]
    }
   ],
   "source": [
    "print(data1[0:5])"
   ]
  },
  {
   "cell_type": "markdown",
   "metadata": {},
   "source": [
    "# انتخاب داده ها"
   ]
  },
  {
   "attachments": {
    "pandas_select_row_by_index_iloc.png": {
     "image/png": "[encoded data removed]"
    }
   },
   "cell_type": "markdown",
   "metadata": {},
   "source": [
    "![pandas_select_row_by_index_iloc.png](attachment:pandas_select_row_by_index_iloc.png)"
   ]
  },
  {
   "cell_type": "code",
   "execution_count": 12,
   "metadata": {},
   "outputs": [
    {
     "data": {
      "text/html": [
       "<div>\n",
       "<style scoped>\n",
       "    .dataframe tbody tr th:only-of-type {\n",
       "        vertical-align: middle;\n",
       "    }\n",
       "\n",
       "    .dataframe tbody tr th {\n",
       "        vertical-align: top;\n",
       "    }\n",
       "\n",
       "    .dataframe thead th {\n",
       "        text-align: right;\n",
       "    }\n",
       "</style>\n",
       "<table border=\"1\" class=\"dataframe\">\n",
       "  <thead>\n",
       "    <tr style=\"text-align: right;\">\n",
       "      <th></th>\n",
       "      <th>وضعیت رکورد</th>\n",
       "      <th>کد ساختمان</th>\n",
       "      <th>کد طبقه</th>\n",
       "    </tr>\n",
       "  </thead>\n",
       "  <tbody>\n",
       "    <tr>\n",
       "      <th>1</th>\n",
       "      <td>فعال</td>\n",
       "      <td>10</td>\n",
       "      <td>0</td>\n",
       "    </tr>\n",
       "    <tr>\n",
       "      <th>2</th>\n",
       "      <td>فعال</td>\n",
       "      <td>10</td>\n",
       "      <td>0</td>\n",
       "    </tr>\n",
       "  </tbody>\n",
       "</table>\n",
       "</div>"
      ],
      "text/plain": [
       "  وضعیت رکورد  کد ساختمان  کد طبقه\n",
       "1        فعال          10        0\n",
       "2        فعال          10        0"
      ]
     },
     "execution_count": 12,
     "metadata": {},
     "output_type": "execute_result"
    }
   ],
   "source": [
    "# dataframe.iloc[row_index, column_index]\n",
    "#  محدوده ای از سطرها و ستونها با موقعیت آنها \n",
    "data.iloc[1:3, 2:5]"
   ]
  },
  {
   "cell_type": "markdown",
   "metadata": {},
   "source": [
    "#  فیلتر کردن داده ها "
   ]
  },
  {
   "cell_type": "code",
   "execution_count": 38,
   "metadata": {},
   "outputs": [],
   "source": [
    "#   فیلتر کردن داده ها \n",
    "\n",
    "data3 = data[data['مساحت']> 30]\n",
    "\n",
    "#print(data3.head(2))\n"
   ]
  },
  {
   "cell_type": "code",
   "execution_count": 40,
   "metadata": {},
   "outputs": [
    {
     "data": {
      "text/plain": [
       "8.700000000000001"
      ]
     },
     "execution_count": 40,
     "metadata": {},
     "output_type": "execute_result"
    }
   ],
   "source": [
    "data[data[\"مساحت\"]<10].مساحت.mean()"
   ]
  },
  {
   "cell_type": "markdown",
   "metadata": {},
   "source": [
    "# مرتب کردن"
   ]
  },
  {
   "cell_type": "code",
   "execution_count": 13,
   "metadata": {},
   "outputs": [
    {
     "data": {
      "text/html": [
       "<div>\n",
       "<style scoped>\n",
       "    .dataframe tbody tr th:only-of-type {\n",
       "        vertical-align: middle;\n",
       "    }\n",
       "\n",
       "    .dataframe tbody tr th {\n",
       "        vertical-align: top;\n",
       "    }\n",
       "\n",
       "    .dataframe thead th {\n",
       "        text-align: right;\n",
       "    }\n",
       "</style>\n",
       "<table border=\"1\" class=\"dataframe\">\n",
       "  <thead>\n",
       "    <tr style=\"text-align: right;\">\n",
       "      <th></th>\n",
       "      <th>ID</th>\n",
       "      <th>سال بهره برداري</th>\n",
       "      <th>وضعیت رکورد</th>\n",
       "      <th>کد ساختمان</th>\n",
       "      <th>کد طبقه</th>\n",
       "      <th>طبقه</th>\n",
       "      <th>کد اتاق</th>\n",
       "      <th>شماره اتاق</th>\n",
       "      <th>شماره جدید 96</th>\n",
       "      <th>عنوان</th>\n",
       "      <th>عنوان جدید96</th>\n",
       "      <th>مساحت</th>\n",
       "      <th>کاربری اصلی</th>\n",
       "      <th>کاربری</th>\n",
       "    </tr>\n",
       "  </thead>\n",
       "  <tbody>\n",
       "    <tr>\n",
       "      <th>1</th>\n",
       "      <td>2</td>\n",
       "      <td>1390</td>\n",
       "      <td>فعال</td>\n",
       "      <td>10</td>\n",
       "      <td>0</td>\n",
       "      <td>همکف</td>\n",
       "      <td>1000101</td>\n",
       "      <td>101</td>\n",
       "      <td>101</td>\n",
       "      <td>اطلاعات</td>\n",
       "      <td>اطلاعات</td>\n",
       "      <td>8.0</td>\n",
       "      <td>پشتیبانی</td>\n",
       "      <td>NaN</td>\n",
       "    </tr>\n",
       "    <tr>\n",
       "      <th>103</th>\n",
       "      <td>147</td>\n",
       "      <td>1370</td>\n",
       "      <td>فعال</td>\n",
       "      <td>13</td>\n",
       "      <td>0</td>\n",
       "      <td>همکف</td>\n",
       "      <td>1300121</td>\n",
       "      <td>121</td>\n",
       "      <td>121</td>\n",
       "      <td>اتاق اساتید</td>\n",
       "      <td>اتاق اساتید</td>\n",
       "      <td>8.2</td>\n",
       "      <td>آموزشی</td>\n",
       "      <td>آموزشی و کمک آموزشی</td>\n",
       "    </tr>\n",
       "    <tr>\n",
       "      <th>56</th>\n",
       "      <td>58</td>\n",
       "      <td>1390</td>\n",
       "      <td>فعال</td>\n",
       "      <td>10</td>\n",
       "      <td>1</td>\n",
       "      <td>اول</td>\n",
       "      <td>1001224</td>\n",
       "      <td>224</td>\n",
       "      <td>224</td>\n",
       "      <td>حراست</td>\n",
       "      <td>اتاق استراحت - حراست</td>\n",
       "      <td>9.0</td>\n",
       "      <td>اداری</td>\n",
       "      <td>NaN</td>\n",
       "    </tr>\n",
       "    <tr>\n",
       "      <th>81</th>\n",
       "      <td>125</td>\n",
       "      <td>1370</td>\n",
       "      <td>فعال</td>\n",
       "      <td>13</td>\n",
       "      <td>0</td>\n",
       "      <td>همکف</td>\n",
       "      <td>1300117</td>\n",
       "      <td>117</td>\n",
       "      <td>117</td>\n",
       "      <td>اتاق اساتید</td>\n",
       "      <td>اتاق اساتید</td>\n",
       "      <td>9.0</td>\n",
       "      <td>آموزشی</td>\n",
       "      <td>آموزشی و کمک آموزشی</td>\n",
       "    </tr>\n",
       "    <tr>\n",
       "      <th>30</th>\n",
       "      <td>32</td>\n",
       "      <td>1390</td>\n",
       "      <td>فعال</td>\n",
       "      <td>10</td>\n",
       "      <td>1</td>\n",
       "      <td>اول</td>\n",
       "      <td>1001200</td>\n",
       "      <td>200</td>\n",
       "      <td>200</td>\n",
       "      <td>تشکلهای دانشجویی</td>\n",
       "      <td>بسیج دانشجویی</td>\n",
       "      <td>9.0</td>\n",
       "      <td>فرهنگی</td>\n",
       "      <td>فرهنگی</td>\n",
       "    </tr>\n",
       "    <tr>\n",
       "      <th>...</th>\n",
       "      <td>...</td>\n",
       "      <td>...</td>\n",
       "      <td>...</td>\n",
       "      <td>...</td>\n",
       "      <td>...</td>\n",
       "      <td>...</td>\n",
       "      <td>...</td>\n",
       "      <td>...</td>\n",
       "      <td>...</td>\n",
       "      <td>...</td>\n",
       "      <td>...</td>\n",
       "      <td>...</td>\n",
       "      <td>...</td>\n",
       "      <td>...</td>\n",
       "    </tr>\n",
       "    <tr>\n",
       "      <th>86</th>\n",
       "      <td>130</td>\n",
       "      <td>1370</td>\n",
       "      <td>فعال</td>\n",
       "      <td>13</td>\n",
       "      <td>0</td>\n",
       "      <td>همکف</td>\n",
       "      <td>1300137</td>\n",
       "      <td>137</td>\n",
       "      <td>137</td>\n",
       "      <td>اتاق کارمندان</td>\n",
       "      <td>دفتر معاونت دانشکده علوم پایه</td>\n",
       "      <td>34.2</td>\n",
       "      <td>اداری</td>\n",
       "      <td>NaN</td>\n",
       "    </tr>\n",
       "    <tr>\n",
       "      <th>49</th>\n",
       "      <td>51</td>\n",
       "      <td>1390</td>\n",
       "      <td>فعال</td>\n",
       "      <td>10</td>\n",
       "      <td>1</td>\n",
       "      <td>اول</td>\n",
       "      <td>1001217</td>\n",
       "      <td>217</td>\n",
       "      <td>217</td>\n",
       "      <td>مدیران آموزشی</td>\n",
       "      <td>اتاق مدیر گروه</td>\n",
       "      <td>34.3</td>\n",
       "      <td>آموزشی</td>\n",
       "      <td>آموزشی و کمک آموزشی</td>\n",
       "    </tr>\n",
       "    <tr>\n",
       "      <th>20</th>\n",
       "      <td>22</td>\n",
       "      <td>1390</td>\n",
       "      <td>فعال</td>\n",
       "      <td>10</td>\n",
       "      <td>0</td>\n",
       "      <td>همکف</td>\n",
       "      <td>1000122</td>\n",
       "      <td>122</td>\n",
       "      <td>122</td>\n",
       "      <td>کلاس</td>\n",
       "      <td>کلاس 5012</td>\n",
       "      <td>34.3</td>\n",
       "      <td>آموزشی</td>\n",
       "      <td>آموزشی و کمک آموزشی</td>\n",
       "    </tr>\n",
       "    <tr>\n",
       "      <th>29</th>\n",
       "      <td>31</td>\n",
       "      <td>1390</td>\n",
       "      <td>فعال</td>\n",
       "      <td>10</td>\n",
       "      <td>0</td>\n",
       "      <td>همکف</td>\n",
       "      <td>1000131</td>\n",
       "      <td>131</td>\n",
       "      <td>131</td>\n",
       "      <td>کلاس</td>\n",
       "      <td>کلاس 5007</td>\n",
       "      <td>34.5</td>\n",
       "      <td>آموزشی</td>\n",
       "      <td>آموزشی و کمک آموزشی</td>\n",
       "    </tr>\n",
       "    <tr>\n",
       "      <th>28</th>\n",
       "      <td>30</td>\n",
       "      <td>1390</td>\n",
       "      <td>فعال</td>\n",
       "      <td>10</td>\n",
       "      <td>0</td>\n",
       "      <td>همکف</td>\n",
       "      <td>1000130</td>\n",
       "      <td>130</td>\n",
       "      <td>130</td>\n",
       "      <td>کلاس</td>\n",
       "      <td>کلاس 5006</td>\n",
       "      <td>34.6</td>\n",
       "      <td>آموزشی</td>\n",
       "      <td>آموزشی و کمک آموزشی</td>\n",
       "    </tr>\n",
       "  </tbody>\n",
       "</table>\n",
       "<p>100 rows × 14 columns</p>\n",
       "</div>"
      ],
      "text/plain": [
       "      ID  سال بهره برداري وضعیت رکورد  کد ساختمان  کد طبقه  طبقه  کد اتاق  \\\n",
       "1      2             1390        فعال          10        0  همکف  1000101   \n",
       "103  147             1370        فعال          13        0  همکف  1300121   \n",
       "56    58             1390        فعال          10        1   اول  1001224   \n",
       "81   125             1370        فعال          13        0  همکف  1300117   \n",
       "30    32             1390        فعال          10        1   اول  1001200   \n",
       "..   ...              ...         ...         ...      ...   ...      ...   \n",
       "86   130             1370        فعال          13        0  همکف  1300137   \n",
       "49    51             1390        فعال          10        1   اول  1001217   \n",
       "20    22             1390        فعال          10        0  همکف  1000122   \n",
       "29    31             1390        فعال          10        0  همکف  1000131   \n",
       "28    30             1390        فعال          10        0  همکف  1000130   \n",
       "\n",
       "    شماره اتاق شماره جدید 96             عنوان                   عنوان جدید96  \\\n",
       "1          101           101           اطلاعات                        اطلاعات   \n",
       "103        121           121       اتاق اساتید                    اتاق اساتید   \n",
       "56         224           224             حراست           اتاق استراحت - حراست   \n",
       "81         117           117       اتاق اساتید                    اتاق اساتید   \n",
       "30         200           200  تشکلهای دانشجویی                  بسیج دانشجویی   \n",
       "..         ...           ...               ...                            ...   \n",
       "86         137           137     اتاق کارمندان  دفتر معاونت دانشکده علوم پایه   \n",
       "49         217           217     مدیران آموزشی                 اتاق مدیر گروه   \n",
       "20         122           122              کلاس                      کلاس 5012   \n",
       "29         131           131              کلاس                      کلاس 5007   \n",
       "28         130           130              کلاس                      کلاس 5006   \n",
       "\n",
       "     مساحت کاربری اصلی              کاربری   \n",
       "1      8.0    پشتیبانی                  NaN  \n",
       "103    8.2      آموزشی  آموزشی و کمک آموزشی  \n",
       "56     9.0       اداری                  NaN  \n",
       "81     9.0      آموزشی  آموزشی و کمک آموزشی  \n",
       "30     9.0      فرهنگی               فرهنگی  \n",
       "..     ...         ...                  ...  \n",
       "86    34.2       اداری                  NaN  \n",
       "49    34.3      آموزشی  آموزشی و کمک آموزشی  \n",
       "20    34.3      آموزشی  آموزشی و کمک آموزشی  \n",
       "29    34.5      آموزشی  آموزشی و کمک آموزشی  \n",
       "28    34.6      آموزشی  آموزشی و کمک آموزشی  \n",
       "\n",
       "[100 rows x 14 columns]"
      ]
     },
     "execution_count": 13,
     "metadata": {},
     "output_type": "execute_result"
    }
   ],
   "source": [
    "data2 = data.sort_values( by ='مساحت') # ascending = False\n",
    "data2.head(100)"
   ]
  },
  {
   "cell_type": "code",
   "execution_count": 14,
   "metadata": {},
   "outputs": [
    {
     "name": "stdout",
     "output_type": "stream",
     "text": [
      "[[1, 1390, 'فعال', 10, 0, 'همکف', '1000100', 100, 100, 'ورودی', 'ورودی', 43.5, 'عمومی', nan]]\n"
     ]
    }
   ],
   "source": [
    "# # https://datatofish.com/convert-pandas-dataframe-to-list/\n",
    "\n",
    "data2=data.values.tolist()\n",
    "print(data2[0:1])"
   ]
  },
  {
   "cell_type": "markdown",
   "metadata": {},
   "source": [
    "# آمار توصیفی"
   ]
  },
  {
   "cell_type": "code",
   "execution_count": 30,
   "metadata": {},
   "outputs": [
    {
     "data": {
      "text/plain": [
       "786.3"
      ]
     },
     "execution_count": 30,
     "metadata": {},
     "output_type": "execute_result"
    }
   ],
   "source": [
    "data['مساحت'].max()\n"
   ]
  },
  {
   "cell_type": "code",
   "execution_count": 31,
   "metadata": {},
   "outputs": [
    {
     "data": {
      "text/plain": [
       "8.0"
      ]
     },
     "execution_count": 31,
     "metadata": {},
     "output_type": "execute_result"
    }
   ],
   "source": [
    "data['مساحت'].min()"
   ]
  },
  {
   "cell_type": "code",
   "execution_count": 32,
   "metadata": {},
   "outputs": [
    {
     "data": {
      "text/plain": [
       "24.9"
      ]
     },
     "execution_count": 32,
     "metadata": {},
     "output_type": "execute_result"
    }
   ],
   "source": [
    "data['مساحت'].median()"
   ]
  },
  {
   "cell_type": "code",
   "execution_count": 33,
   "metadata": {},
   "outputs": [
    {
     "data": {
      "text/plain": [
       "41.07801418439716"
      ]
     },
     "execution_count": 33,
     "metadata": {},
     "output_type": "execute_result"
    }
   ],
   "source": [
    "data['مساحت'].mean()"
   ]
  },
  {
   "cell_type": "code",
   "execution_count": 34,
   "metadata": {},
   "outputs": [
    {
     "data": {
      "text/plain": [
       "82.25674274767353"
      ]
     },
     "execution_count": 34,
     "metadata": {},
     "output_type": "execute_result"
    }
   ],
   "source": [
    "data['مساحت'].std()"
   ]
  },
  {
   "cell_type": "code",
   "execution_count": 35,
   "metadata": {},
   "outputs": [
    {
     "data": {
      "text/plain": [
       "-0.1506546037177098"
      ]
     },
     "execution_count": 35,
     "metadata": {},
     "output_type": "execute_result"
    }
   ],
   "source": [
    "data['مساحت'].corr(data['سال بهره برداري'])"
   ]
  },
  {
   "cell_type": "markdown",
   "metadata": {},
   "source": [
    "ویژگی های آماری متداول مانند میانگین، انحراف معیار، عنصر حداقل، عنصر حداکثر \n",
    "با استفاده  از متد :\n",
    "data.describe().T"
   ]
  },
  {
   "cell_type": "code",
   "execution_count": 16,
   "metadata": {
    "scrolled": true
   },
   "outputs": [
    {
     "data": {
      "text/html": [
       "<div>\n",
       "<style scoped>\n",
       "    .dataframe tbody tr th:only-of-type {\n",
       "        vertical-align: middle;\n",
       "    }\n",
       "\n",
       "    .dataframe tbody tr th {\n",
       "        vertical-align: top;\n",
       "    }\n",
       "\n",
       "    .dataframe thead th {\n",
       "        text-align: right;\n",
       "    }\n",
       "</style>\n",
       "<table border=\"1\" class=\"dataframe\">\n",
       "  <thead>\n",
       "    <tr style=\"text-align: right;\">\n",
       "      <th></th>\n",
       "      <th>count</th>\n",
       "      <th>mean</th>\n",
       "      <th>std</th>\n",
       "      <th>min</th>\n",
       "      <th>25%</th>\n",
       "      <th>50%</th>\n",
       "      <th>75%</th>\n",
       "      <th>max</th>\n",
       "    </tr>\n",
       "  </thead>\n",
       "  <tbody>\n",
       "    <tr>\n",
       "      <th>سال بهره برداري</th>\n",
       "      <td>141.0</td>\n",
       "      <td>1381.404255</td>\n",
       "      <td>9.465712</td>\n",
       "      <td>1370.0</td>\n",
       "      <td>1370.0</td>\n",
       "      <td>1388.0</td>\n",
       "      <td>1390.0</td>\n",
       "      <td>1397.0</td>\n",
       "    </tr>\n",
       "    <tr>\n",
       "      <th>کد ساختمان</th>\n",
       "      <td>141.0</td>\n",
       "      <td>13.609929</td>\n",
       "      <td>5.087482</td>\n",
       "      <td>10.0</td>\n",
       "      <td>10.0</td>\n",
       "      <td>13.0</td>\n",
       "      <td>13.0</td>\n",
       "      <td>52.0</td>\n",
       "    </tr>\n",
       "    <tr>\n",
       "      <th>کد طبقه</th>\n",
       "      <td>141.0</td>\n",
       "      <td>0.290780</td>\n",
       "      <td>0.514629</td>\n",
       "      <td>0.0</td>\n",
       "      <td>0.0</td>\n",
       "      <td>0.0</td>\n",
       "      <td>1.0</td>\n",
       "      <td>3.0</td>\n",
       "    </tr>\n",
       "    <tr>\n",
       "      <th>مساحت</th>\n",
       "      <td>141.0</td>\n",
       "      <td>41.078014</td>\n",
       "      <td>82.256743</td>\n",
       "      <td>8.0</td>\n",
       "      <td>15.2</td>\n",
       "      <td>24.9</td>\n",
       "      <td>35.4</td>\n",
       "      <td>786.3</td>\n",
       "    </tr>\n",
       "  </tbody>\n",
       "</table>\n",
       "</div>"
      ],
      "text/plain": [
       "                 count         mean        std     min     25%     50%  \\\n",
       "سال بهره برداري  141.0  1381.404255   9.465712  1370.0  1370.0  1388.0   \n",
       "کد ساختمان       141.0    13.609929   5.087482    10.0    10.0    13.0   \n",
       "کد طبقه          141.0     0.290780   0.514629     0.0     0.0     0.0   \n",
       "مساحت            141.0    41.078014  82.256743     8.0    15.2    24.9   \n",
       "\n",
       "                    75%     max  \n",
       "سال بهره برداري  1390.0  1397.0  \n",
       "کد ساختمان         13.0    52.0  \n",
       "کد طبقه             1.0     3.0  \n",
       "مساحت              35.4   786.3  "
      ]
     },
     "execution_count": 16,
     "metadata": {},
     "output_type": "execute_result"
    }
   ],
   "source": [
    "data.describe().T\n"
   ]
  },
  {
   "cell_type": "code",
   "execution_count": null,
   "metadata": {},
   "outputs": [],
   "source": []
  },
  {
   "cell_type": "code",
   "execution_count": 19,
   "metadata": {},
   "outputs": [
    {
     "data": {
      "image/png": "[encoded data removed]",
      "text/plain": [
       "<Figure size 1000x600 with 1 Axes>"
      ]
     },
     "metadata": {},
     "output_type": "display_data"
    }
   ],
   "source": [
    "price = data[\"مساحت\"]\n",
    "plt.figure(figsize=(10,6))\n",
    "sns.distplot(price, color=\"r\")\n",
    "plt.title(\"masahat faravani\", size=15)\n",
    "plt.xlabel(\"Masahat\", size=13)\n",
    "plt.ylabel(\"faravani\",size=13)\n",
    "plt.show()"
   ]
  },
  {
   "cell_type": "markdown",
   "metadata": {},
   "source": [
    "همبستگی آماری میان کاربری اصلی و میزان مساحت اتاق ها "
   ]
  },
  {
   "cell_type": "code",
   "execution_count": 20,
   "metadata": {},
   "outputs": [
    {
     "data": {
      "image/png": "[encoded data removed]",
      "text/plain": [
       "<Figure size 1000x600 with 1 Axes>"
      ]
     },
     "metadata": {},
     "output_type": "display_data"
    }
   ],
   "source": [
    "plt.figure(figsize=(10,6))\n",
    "sns.scatterplot(x=\"مساحت\", y=\"کاربری اصلی\", data=data)\n",
    "plt.title(\"Correlation between masahat and Karbari\", size=18)\n",
    "plt.show()"
   ]
  },
  {
   "cell_type": "code",
   "execution_count": 25,
   "metadata": {},
   "outputs": [],
   "source": [
    "data1=data[['کد ساختمان','سال بهره برداري','مساحت']]"
   ]
  },
  {
   "cell_type": "code",
   "execution_count": 26,
   "metadata": {},
   "outputs": [
    {
     "data": {
      "image/png": "[encoded data removed]",
      "text/plain": [
       "<Figure size 1500x1000 with 2 Axes>"
      ]
     },
     "metadata": {},
     "output_type": "display_data"
    }
   ],
   "source": [
    "plt.figure(figsize=(15,10))\n",
    "sns.heatmap(data1.corr(), annot=True, square=True, cmap=\"RdBu\")\n",
    "plt.title(\"Correlation Between Variables\", size=18)\n",
    "plt.xticks(size=10)\n",
    "plt.yticks(size=10)\n",
    "plt.show()"
   ]
  },
  {
   "cell_type": "code",
   "execution_count": null,
   "metadata": {},
   "outputs": [],
   "source": []
  },
  {
   "cell_type": "code",
   "execution_count": 27,
   "metadata": {},
   "outputs": [
    {
     "data": {
      "text/plain": [
       "ID                  0\n",
       "سال بهره برداري     0\n",
       "وضعیت رکورد         0\n",
       "کد ساختمان          0\n",
       "کد طبقه             0\n",
       "طبقه                0\n",
       "کد اتاق             0\n",
       "شماره اتاق          0\n",
       "شماره جدید 96       0\n",
       "عنوان               0\n",
       "عنوان جدید96        0\n",
       "مساحت               0\n",
       "کاربری اصلی         0\n",
       "کاربری             31\n",
       "dtype: int64"
      ]
     },
     "execution_count": 27,
     "metadata": {},
     "output_type": "execute_result"
    }
   ],
   "source": [
    "#   بررسی داده های مفقود\n",
    "# Check for missing values\n",
    "\n",
    "data.isnull().sum()"
   ]
  },
  {
   "cell_type": "code",
   "execution_count": null,
   "metadata": {},
   "outputs": [],
   "source": []
  },
  {
   "cell_type": "code",
   "execution_count": 43,
   "metadata": {},
   "outputs": [],
   "source": [
    "# Imputation (replace the missing values with median values for numerical columns)\n",
    "\n",
    "data[\"مساحت\"].fillna(data[\"مساحت\"].median(), inplace=True)\n",
    "\n",
    "# data[\"کاربری\"].fillna(data[\"کاربری\"].median(), inplace=True)\n"
   ]
  },
  {
   "cell_type": "code",
   "execution_count": 29,
   "metadata": {},
   "outputs": [
    {
     "data": {
      "text/plain": [
       "0"
      ]
     },
     "execution_count": 29,
     "metadata": {},
     "output_type": "execute_result"
    }
   ],
   "source": [
    "data.duplicated().sum()"
   ]
  },
  {
   "cell_type": "code",
   "execution_count": 28,
   "metadata": {},
   "outputs": [
    {
     "data": {
      "image/png": "[encoded data removed]",
      "text/plain": [
       "<Figure size 1000x600 with 1 Axes>"
      ]
     },
     "metadata": {},
     "output_type": "display_data"
    }
   ],
   "source": [
    "# داده های پرت\n",
    "# Check for outliers in \"مساحت\" column of the dataset\n",
    "\n",
    "plt.figure(figsize=(10,6))\n",
    "sns.boxplot(data[\"مساحت\"])\n",
    "plt.title(\" Masahat\", size=15)\n",
    "plt.show()"
   ]
  },
  {
   "cell_type": "code",
   "execution_count": null,
   "metadata": {},
   "outputs": [],
   "source": []
  },
  {
   "cell_type": "code",
   "execution_count": null,
   "metadata": {},
   "outputs": [],
   "source": [
    "# Data_Link: https://www.kaggle.com/datasets/gagandeep16/car-sales\n",
    "# example  : https://www.kaggle.com/code/emrearslan123/eda-visualization-on-car-sales-dataset/notebook"
   ]
  }
 ],
 "metadata": {
  "kernelspec": {
   "display_name": "Python 3 (ipykernel)",
   "language": "python",
   "name": "python3"
  },
  "language_info": {
   "codemirror_mode": {
    "name": "ipython",
    "version": 3
   },
   "file_extension": ".py",
   "mimetype": "text/x-python",
   "name": "python",
   "nbconvert_exporter": "python",
   "pygments_lexer": "ipython3",
   "version": "3.11.5"
  }
 },
 "nbformat": 4,
 "nbformat_minor": 2
}
