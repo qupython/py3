{
 "cells": [
  {
   "cell_type": "markdown",
   "metadata": {},
   "source": [
    "# از دیکشنری برای ذخیره اطلاعات به شکل جفتهای کلید:مقداردر میان یک جفت آکولاد  {} استفاده می شود\n",
    "# { key:value , key2:value2 , key3:valu3}\n",
    "# برای دسترسی به  آیتم ها از  کلید استفاده می شود\n",
    "# هر کلید باید منحصر بفرد باشد\n",
    "# کلید باید نوع داده تغییرناپذیراعداد،رشته و تاپل باشد اما مقدارش هر چیزی مانند لیست و دیکشنری\n",
    "# مانند لیست تغییر پذیر و پویا است و می تواند تود در تو و یا ترکیبی با لیست ها باشد"
   ]
  },
  {
   "cell_type": "markdown",
   "metadata": {},
   "source": [
    "\n",
    "  <div dir=rtl id=\"boosting\">\n",
    "  <font face=\"XB Zar\" size=7>\n",
    "      <font color=\"red\" size=8>\n",
    "        آشنایی با انواع\n",
    "        <font face=\"Roboto\">\n",
    "          Dictionary in python\n",
    "        </font>\n",
  </div>
$$
  PE \le \frac {\overline {P}. (1-S^2)}{S^2}
$$
<div dir=ltr>
  <ul>
    "      </font>\n",
    "      <br />\n",
    "      </font>\n",
    "    </div>"
   ]
  },
  {
   "cell_type": "markdown",
   "metadata": {},
   "source": [
    "\n",
    "  <div dir=rtl id=\"gradient-boost\">\n",
    "    <font face=\"XB Zar\" size=4> \n",
    "        <font color=\"red\" size=5>\n",
    "       آموزش دیکشنری \n",
    "    </font>\n",
    "  </div>"
   ]
  },
  {
   "cell_type": "markdown",
   "metadata": {},
   "source": [
    "\n",
    "  <div dir=rtl id=\"gradient-boost\">\n",
    "    <font face=\"XB Zar\" size=4> \n",
    "\n",
    " از دیکشنری برای ذخیره اطلاعات به شکل جفتهای کلید:مقداردر میان یک جفت آکولاد {} استفاده می شود\n",
    "<br />\n",
    " { key:value , key2:value2 , key3:valu3}\n",
    "<br />\n",
    "برای دسترسی به آیتم ها از کلید استفاده می شود\n",
    "هر کلید باید منحصر بفرد باشد\n",
    "<br />\n",
    "کلید باید از نوع داده تغییرناپذیر اعداد،رشته و تاپل باشد اما مقدارش هر چیزی مانند لیست و دیکشنری\n",
    "<br />\n",
    "مانند لیست تغییر پذیر و پویا است و می تواند تود در تو و یا ترکیبی با لیست ها باشد\n",
    "    </font>\n",
    "  </div>"
   ]
  },
  {
   "cell_type": "code",
   "execution_count": null,
   "metadata": {},
   "outputs": [],
   "source": [
    "a = { 'key1':'value1' , 'key2':'value2' , 'key3':'valu3','key4':'valu4','key5':'valu5','key6':'valu6','key7':'valu7','key8':'valu8','key9':'valu9'}\n",
    "print(a)"
   ]
  },
  {
   "cell_type": "markdown",
   "metadata": {},
   "source": [
    "\n",
    "  <div dir=rtl id=\"gradient-boost\">\n",
    "    <font face=\"XB Zar\" size=4> \n",
    "\n",
    " a = { 'key1':'value1' , 'key2':'value2' , 'key3':'valu3','key4':'valu4','key5':'valu5','key6':'valu6','key7':'valu7','key8':'valu8','key9':'valu9'}\n",
    "\n",
    "<br />\n",
    "برای دسترسی به آیتم ها از کلید استفاده می شود\n",
    "<br />\n",
    "\n",
    "مانند لیست تغییر پذیر و پویا است و می تواند تود در تو و یا ترکیبی با لیست ها باشد\n",
    "    </font>\n",
    "  </div>"
   ]
  },
  {
   "cell_type": "markdown",
   "metadata": {},
   "source": [
    "# تعریف دیکشنری"
   ]
  },
  {
   "cell_type": "code",
   "execution_count": null,
   "metadata": {},
   "outputs": [],
   "source": [
    "a = {'name':'ali', 'age':20}\n",
    "print(a)"
   ]
  },
  {
   "cell_type": "markdown",
   "metadata": {},
   "source": [
    "# dict تعریف دیکشنری با متد"
   ]
  },
  {
   "cell_type": "code",
   "execution_count": null,
   "metadata": {},
   "outputs": [],
   "source": [
    "a = dict(name = \"ali\", age = 20)\n",
    "print(a)"
   ]
  },
  {
   "cell_type": "markdown",
   "metadata": {},
   "source": [
    "# دسترسی به مقادیر دیکشنری    \n",
    "# [] با استفاده از براکت\n",
    "#  داخل براکت مقدار کلید \n",
    "\n"
   ]
  },
  {
   "cell_type": "code",
   "execution_count": null,
   "metadata": {},
   "outputs": [],
   "source": [
    "a = {'name':'ali', 'age':20}\n",
    "\n",
    "print(a['name'])"
   ]
  },
  {
   "cell_type": "markdown",
   "metadata": {},
   "source": [
    "#   اگر مقدار کلیدی که وجود ندارد وارد شود ارور خواهد داد مانند مثال زیر"
   ]
  },
  {
   "cell_type": "code",
   "execution_count": null,
   "metadata": {},
   "outputs": [],
   "source": [
    "a = {'name':'ali', 'age':20}\n",
    "\n",
    "print(a['car'])\n"
   ]
  },
  {
   "cell_type": "markdown",
   "metadata": {},
   "source": [
    "# برای تغییر مقدار در آیتم دیکشنری، به نام کلید یک مقدار جدیدی انتساب می دهیم "
   ]
  },
  {
   "cell_type": "code",
   "execution_count": null,
   "metadata": {
    "scrolled": false
   },
   "outputs": [],
   "source": [
    "a = {'name':'ali', 'age':20}\n",
    "a['name'] = 'reza'\n",
    "print(a['name'])\n"
   ]
  },
  {
   "cell_type": "markdown",
   "metadata": {},
   "source": [
    "#  برای اضافه کردن ایتم جدید به دیکشنری\n",
    "#  باید از یک کلید جدید استفاده نمود  \n",
    "# و مقدار آن را به آن با علامت = انتساب داد \n"
   ]
  },
  {
   "cell_type": "code",
   "execution_count": null,
   "metadata": {
    "scrolled": true
   },
   "outputs": [],
   "source": [
    "a = {'name':'ali', 'age':20}\n",
    "a['address'] = 'Tehran'\n",
    "print(a)"
   ]
  },
  {
   "cell_type": "markdown",
   "metadata": {},
   "source": [
    "# طول دیکشنری ها\n"
   ]
  },
  {
   "cell_type": "code",
   "execution_count": null,
   "metadata": {},
   "outputs": [],
   "source": [
    "\n",
    "a = {'name':'ali', 'age':20}\n",
    "\n",
    "print(len(a))\n"
   ]
  },
  {
   "cell_type": "markdown",
   "metadata": {},
   "source": [
    "#  بررسی وجود آیتم در دیکشنری\n",
    "# in با استفاده از "
   ]
  },
  {
   "cell_type": "code",
   "execution_count": null,
   "metadata": {},
   "outputs": [],
   "source": [
    "a = {'name':'ali', 'age':20}\n",
    "print('name' in a)\n",
    "print('ali' in a)"
   ]
  },
  {
   "cell_type": "markdown",
   "metadata": {},
   "source": [
    "#  برای حذف یک مقدار دیکشری از متد دل در کنار نام کلید\n",
    "#  del با متد \n"
   ]
  },
  {
   "cell_type": "code",
   "execution_count": null,
   "metadata": {},
   "outputs": [],
   "source": [
    "a = {'name':'ali', 'age':20}\n",
    "del a['name']\n",
    "print(a)"
   ]
  },
  {
   "cell_type": "markdown",
   "metadata": {},
   "source": [
    "#  حذف یک کلید از دیکشنری  با برگشت \" مقدار\" آیتم حذف شده\n",
    "# pop با متد"
   ]
  },
  {
   "cell_type": "code",
   "execution_count": null,
   "metadata": {},
   "outputs": [],
   "source": [
    "a = {'name':'ali', 'age':20}\n",
    "\n",
    "a.pop('name')\n"
   ]
  },
  {
   "cell_type": "markdown",
   "metadata": {},
   "source": [
    "# حذف آخرین آیتم از دیکشنری\n",
    "# popitem با متد"
   ]
  },
  {
   "cell_type": "code",
   "execution_count": null,
   "metadata": {},
   "outputs": [],
   "source": [
    "a = {'name':'ali', 'age':20}\n",
    "\n",
    "a.popitem()"
   ]
  },
  {
   "cell_type": "markdown",
   "metadata": {},
   "source": [
    "#  برای حذف تمام آیتم‌های دیکشنری و خالی کردن آن دیکشنری\n",
    "#  clear متد \n"
   ]
  },
  {
   "cell_type": "code",
   "execution_count": null,
   "metadata": {},
   "outputs": [],
   "source": [
    "a = {'name':'ali', 'age':20}\n",
    "a.clear()\n",
    "print(a)"
   ]
  },
  {
   "cell_type": "markdown",
   "metadata": {},
   "source": [
    "#   حذف کل دیکشنری\n",
    "#   del متد \n"
   ]
  },
  {
   "cell_type": "code",
   "execution_count": null,
   "metadata": {},
   "outputs": [],
   "source": [
    "a = {'name':'ali', 'age':20}\n",
    "del a\n",
    "print(a)"
   ]
  },
  {
   "cell_type": "markdown",
   "metadata": {},
   "source": [
    "# دسترسی به تمام \"کلیدهای\" یک دیکشنری "
   ]
  },
  {
   "cell_type": "code",
   "execution_count": null,
   "metadata": {},
   "outputs": [],
   "source": [
    "a = {'name':'ali', 'age':20}\n",
    "\n",
    "a.keys()"
   ]
  },
  {
   "cell_type": "markdown",
   "metadata": {},
   "source": [
    "# دسترسی به  تمام \"مقادیر\" یک دیکشنری"
   ]
  },
  {
   "cell_type": "code",
   "execution_count": null,
   "metadata": {},
   "outputs": [],
   "source": [
    "a = {'name':'ali', 'age':20}\n",
    "\n",
    "a.values()\n"
   ]
  },
  {
   "cell_type": "markdown",
   "metadata": {},
   "source": [
    "# ترکیب یک دیکشنری با دیکشنری \n",
    "# Update با متد "
   ]
  },
  {
   "cell_type": "code",
   "execution_count": null,
   "metadata": {},
   "outputs": [],
   "source": [
    "d1 = {'a': 10, 'b': 20, 'c': 30}\n",
    "d2 = {'b': 200, 'd': 400}\n",
    "\n",
    "d1.update(d2)\n",
    "d1"
   ]
  },
  {
   "cell_type": "markdown",
   "metadata": {},
   "source": [
    "#  پیمایش در آیتم‌های دیکشنری با حلقه"
   ]
  },
  {
   "cell_type": "code",
   "execution_count": null,
   "metadata": {},
   "outputs": [],
   "source": [
    "a = {'name':'ali', 'age':20}\n",
    "# Tuppel\n",
    "for item in a.items():\n",
    "     print(item)\n",
    "\n",
    "        # key & value        \n",
    "for k,v in a.items():\n",
    "     print(k,v)"
   ]
  },
  {
   "cell_type": "markdown",
   "metadata": {},
   "source": [
    "# استخراج \" کلیدها \" با پیمایش در حلقه"
   ]
  },
  {
   "cell_type": "code",
   "execution_count": null,
   "metadata": {},
   "outputs": [],
   "source": [
    "a = {'name':'ali', 'age':20}\n",
    "\n",
    "for b in a.keys():\n",
    " \tprint(b)"
   ]
  },
  {
   "cell_type": "markdown",
   "metadata": {},
   "source": [
    "# استخراج \" مقدارها \" با پیمایش در حلقه"
   ]
  },
  {
   "cell_type": "code",
   "execution_count": null,
   "metadata": {},
   "outputs": [],
   "source": [
    "a = {'name':'ali', 'age':20}\n",
    "\n",
    "for m in a.values():\n",
    " \tprint(m)"
   ]
  },
  {
   "cell_type": "markdown",
   "metadata": {},
   "source": [
    "# دیکشنری تو در تو \n",
    "# Nested Dictionary\n",
    "# دو گونه تعریف مستقیم و جداگانه "
   ]
  },
  {
   "cell_type": "code",
   "execution_count": null,
   "metadata": {},
   "outputs": [],
   "source": [
    "# تعریف با استفاده از دیکشنری های میانی به صورت جداگانه\n",
    "student1 = {\n",
    "  \"name\" : \"mohhamad\",\n",
    "  \"year\" : 1390\n",
    "}\n",
    "student2 = {\n",
    "  \"name\" : \"ali\",\n",
    "  \"year\" : 1394\n",
    "}\n",
    "student3 = {\n",
    "  \"name\" : \"hasan\",\n",
    "  \"year\" : 1398\n",
    "}\n",
    "class1 = {\n",
    "  \"member1\" : student1,\n",
    "  \"member2\" : student2,\n",
    "  \"member3\" : student3\n",
    "}\n",
    "\n",
    "# تعریف مستقیم \n",
    "class2 = {\"member1\":{ \"name\":\"ahmad\",\"year\":1390},\"member2\":{\"name\":\"saber\",\"year\":1395},\"member3\":{\"name\":\"reza\",\"year\": 1396}}\n",
    "\n",
    "print(class1['member1']['name'])\n",
    "print(class1['member2']['year'])\n",
    "\n",
    "print(class2['member1']['name'])\n",
    "print(class2['member2']['year'])\n"
   ]
  },
  {
   "cell_type": "code",
   "execution_count": null,
   "metadata": {},
   "outputs": [],
   "source": []
  }
 ],
 "metadata": {
  "kernelspec": {
   "display_name": "Python 3 (ipykernel)",
   "language": "python",
   "name": "python3"
  },
  "language_info": {
   "codemirror_mode": {
    "name": "ipython",
    "version": 3
   },
   "file_extension": ".py",
   "mimetype": "text/x-python",
   "name": "python",
   "nbconvert_exporter": "python",
   "pygments_lexer": "ipython3",
   "version": "3.11.5"
  }
 },
 "nbformat": 4,
 "nbformat_minor": 2
}
