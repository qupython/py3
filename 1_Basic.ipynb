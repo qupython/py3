{
 "cells": [
  {
   "cell_type": "markdown",
   "metadata": {},
   "source": [
    "اولین برنامه"
   ]
  },
  {
   "cell_type": "code",
   "execution_count": 4,
   "metadata": {},
   "outputs": [
    {
     "name": "stdout",
     "output_type": "stream",
     "text": [
      "hello world\n"
     ]
    }
   ],
   "source": [
    "print(\"hello world\")"
   ]
  },
  {
   "cell_type": "code",
   "execution_count": 5,
   "metadata": {},
   "outputs": [],
   "source": [
    "first_name =\"Ali\"\n",
    "\n",
    "last_Name = \"Mohammadi\""
   ]
  },
  {
   "cell_type": "code",
   "execution_count": 7,
   "metadata": {},
   "outputs": [
    {
     "data": {
      "text/plain": [
       "'Ali'"
      ]
     },
     "execution_count": 7,
     "metadata": {},
     "output_type": "execute_result"
    }
   ],
   "source": [
    "first_name"
   ]
  },
  {
   "cell_type": "code",
   "execution_count": 8,
   "metadata": {},
   "outputs": [
    {
     "name": "stdout",
     "output_type": "stream",
     "text": [
      "Ali Mohammadi\n"
     ]
    }
   ],
   "source": [
    "print(first_name,last_Name)"
   ]
  },
  {
   "cell_type": "markdown",
   "metadata": {},
   "source": [
    "شکل های درست و غلط برای نام گذاری متغیر ها:\n",
    "درست:\n",
    "name\n",
    "_name\n",
    "name2313\n",
    "na12nme\n",
    "غلط:\n",
    "+aman\n",
    "-name\n",
    "123name\n"
   ]
  },
  {
   "cell_type": "code",
   "execution_count": 9,
   "metadata": {},
   "outputs": [],
   "source": [
    "#انواع متغیر ها\n",
    "age = 20 # integer عدد صحیح\n",
    "score = 19.25 # float عدد اعشاری\n",
    "name = \"Arash\" # string نوشته، متن\n",
    "status = False # boolean درست یا غلط"
   ]
  },
  {
   "cell_type": "code",
   "execution_count": 10,
   "metadata": {},
   "outputs": [
    {
     "name": "stdout",
     "output_type": "stream",
     "text": [
      "enter your age:\n",
      "33\n",
      "your age is: 33\n"
     ]
    }
   ],
   "source": [
    "#گرفتن ورودی از کاربر \n",
    "print(\"enter your age:\")\n",
    "age = input()\n",
    "print(\"your age is:\", age)"
   ]
  },
  {
   "cell_type": "code",
   "execution_count": 11,
   "metadata": {},
   "outputs": [
    {
     "name": "stdout",
     "output_type": "stream",
     "text": [
      "taghsim: 3.3333333333333335\n",
      "taghsim rond shode be paeen: 3\n",
      "zarb: 30\n",
      "jam: 13\n",
      "tafrigh: 7\n",
      "baghi mande: 1\n",
      "tavan: 1000\n",
      "stopstopstopstopstopstopstopstopstopstop\n"
     ]
    }
   ],
   "source": [
    "# عملیات ریاضی\n",
    "print(\"taghsim:\", 10 / 3)\n",
    "print(\"taghsim rond shode be paeen:\", 10 // 3)\n",
    "print(\"zarb:\", 10 * 3)\n",
    "print(\"jam:\", 10 + 3)\n",
    "print(\"tafrigh:\", 10 - 3)\n",
    "print(\"baghi mande:\", 10 % 3)\n",
    "print(\"tavan:\", 10 ** 3)\n",
    "print(10 * \"stop\") # ده بار نوشته استاپ رو پشت هم برای ما مینویس"
   ]
  },
  {
   "cell_type": "code",
   "execution_count": 12,
   "metadata": {},
   "outputs": [
    {
     "name": "stdout",
     "output_type": "stream",
     "text": [
      "enter x:30\n",
      "False\n",
      "True\n",
      "True\n",
      "True\n",
      "False\n",
      "False\n"
     ]
    }
   ],
   "source": [
    "# مقایسه\n",
    "x = input(\"enter x:\")\n",
    "x = int(x)\n",
    "print(x == 10) # مساوی\n",
    "print(x != 10) # مخالف\n",
    "print(x > 10) # بزرگ تر\n",
    "print(x >= 10) # بزرگ تر یا مساوی\n",
    "print(x < 10) # کوچک تر\n",
    "print(x <= 10) # کوچک تر یا مساوی"
   ]
  },
  {
   "cell_type": "code",
   "execution_count": 13,
   "metadata": {},
   "outputs": [
    {
     "name": "stdout",
     "output_type": "stream",
     "text": [
      "enter x:15\n",
      "True\n",
      "False\n",
      "True\n"
     ]
    }
   ],
   "source": [
    "# عبارات منطقی\n",
    "x = input(\"enter x:\")\n",
    "x = int(x)\n",
    "print(x < 20 and x > 10) # و\n",
    "print(x > 100 or x < -100) # یا\n",
    "print(not x == 10) # برعکس"
   ]
  },
  {
   "cell_type": "code",
   "execution_count": 19,
   "metadata": {},
   "outputs": [
    {
     "name": "stdout",
     "output_type": "stream",
     "text": [
      "Pi= 3.141592653589793\n",
      "factorial= 720\n",
      "area= 760.26542216873\n"
     ]
    }
   ],
   "source": [
    "# ماژول ریاضی\n",
    "\n",
    "import math\n",
    "\n",
    "print(\"Pi=\" ,math.pi)\n",
    "\n",
    "print(\"factorial=\",math.factorial(6))\n",
    "\n",
    "radius = 11\n",
    "area = 2 * math.pi * (radius ** 2)\n",
    "print('area=',area)\n",
    "# https://www.w3-farsi.com/posts/31262/math-module-in-python/\n",
    "\n"
   ]
  },
  {
   "cell_type": "code",
   "execution_count": 22,
   "metadata": {},
   "outputs": [
    {
     "name": "stdout",
     "output_type": "stream",
     "text": [
      "Ali Hasan\n",
      "ALI HASAN\n",
      "ali hasan\n",
      "4\n",
      "True\n",
      "False\n",
      "reza Hasan\n"
     ]
    }
   ],
   "source": [
    "# توابع کار با رشته های متنی\n",
    "text = \"Ali Hasan\"\n",
    "print(text) # حالت معمولی\n",
    "print(text.upper()) # حروف بزرگ\n",
    "print(text.lower()) # حروف کوچک\n",
    "print(text.find(\"Hasan\")) # پیدا کردن نوشته\n",
    "print(\"Ali\" in text) # True\n",
    "print(\"reza\" in text) # False\n",
    "print(text.replace(\"Ali\",\"reza\")) # جایگزین کردن نوشته"
   ]
  },
  {
   "cell_type": "code",
   "execution_count": null,
   "metadata": {},
   "outputs": [],
   "source": []
  }
 ],
 "metadata": {
  "kernelspec": {
   "display_name": "Python 3 (ipykernel)",
   "language": "python",
   "name": "python3"
  },
  "language_info": {
   "codemirror_mode": {
    "name": "ipython",
    "version": 3
   },
   "file_extension": ".py",
   "mimetype": "text/x-python",
   "name": "python",
   "nbconvert_exporter": "python",
   "pygments_lexer": "ipython3",
   "version": "3.11.5"
  }
 },
 "nbformat": 4,
 "nbformat_minor": 4
}
