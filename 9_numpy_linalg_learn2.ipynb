{
 "cells": [
  {
   "cell_type": "markdown",
   "metadata": {},
   "source": [
    "تعریف ماتریس2*2 با نامپای"
   ]
  },
  {
   "cell_type": "code",
   "execution_count": 49,
   "metadata": {},
   "outputs": [],
   "source": [
    "import numpy as np \n",
    "A = np.array([[6, 1, 1], \n",
    "              [4, -2, 5], \n",
    "              [2, 8, 7]]) \n"
   ]
  },
  {
   "cell_type": "markdown",
   "metadata": {},
   "source": [
    "محاسبه رنک ماتریس"
   ]
  },
  {
   "cell_type": "code",
   "execution_count": 50,
   "metadata": {},
   "outputs": [
    {
     "name": "stdout",
     "output_type": "stream",
     "text": [
      "Rank of A: 3\n"
     ]
    }
   ],
   "source": [
    "print(\"Rank of A:\", np.linalg.matrix_rank(A)) \n"
   ]
  },
  {
   "cell_type": "markdown",
   "metadata": {},
   "source": [
    "اثر ماتریس = مجموع عناصر قطر اصلی"
   ]
  },
  {
   "cell_type": "code",
   "execution_count": 51,
   "metadata": {},
   "outputs": [
    {
     "name": "stdout",
     "output_type": "stream",
     "text": [
      "\n",
      " Trace of A: 11\n"
     ]
    }
   ],
   "source": [
    "print(\"\\n Trace of A:\", np.trace(A)) \n"
   ]
  },
  {
   "cell_type": "markdown",
   "metadata": {},
   "source": [
    "محاسبه مقدار ویژه و بردارهای ویژه"
   ]
  },
  {
   "cell_type": "code",
   "execution_count": 52,
   "metadata": {},
   "outputs": [
    {
     "name": "stdout",
     "output_type": "stream",
     "text": [
      "\n",
      " eigenvalues of A: (array([11.24862343,  5.09285054, -5.34147398]), array([[ 0.24511338,  0.75669314,  0.02645665],\n",
      "       [ 0.40622202, -0.03352363, -0.84078293],\n",
      "       [ 0.88028581, -0.65291014,  0.54072554]]))\n"
     ]
    }
   ],
   "source": [
    "print(\"\\n eigenvalues of A:\", np.linalg.eig(A))\n"
   ]
  },
  {
   "cell_type": "markdown",
   "metadata": {},
   "source": [
    "محاسبه نرم ماتریس "
   ]
  },
  {
   "cell_type": "code",
   "execution_count": 53,
   "metadata": {},
   "outputs": [
    {
     "name": "stdout",
     "output_type": "stream",
     "text": [
      "[[6 1 1]]\n",
      "\n",
      " norm of A: 6.164414002968976\n"
     ]
    }
   ],
   "source": [
    "print(A[0:1])\n",
    "print(\"\\n norm of A:\", np.linalg.norm(A[0:1]))"
   ]
  },
  {
   "cell_type": "markdown",
   "metadata": {},
   "source": [
    "محاسبه دترمینان ماتریس"
   ]
  },
  {
   "cell_type": "code",
   "execution_count": 54,
   "metadata": {},
   "outputs": [
    {
     "name": "stdout",
     "output_type": "stream",
     "text": [
      "\n",
      "Determinant of A: -306.0\n"
     ]
    }
   ],
   "source": [
    "print(\"\\nDeterminant of A:\", np.linalg.det(A)) \n"
   ]
  },
  {
   "cell_type": "markdown",
   "metadata": {},
   "source": [
    "محاسبه ماتریس معکوس"
   ]
  },
  {
   "cell_type": "code",
   "execution_count": 55,
   "metadata": {},
   "outputs": [
    {
     "name": "stdout",
     "output_type": "stream",
     "text": [
      "\n",
      "Inverse of A:\n",
      " [[ 0.17647059 -0.00326797 -0.02287582]\n",
      " [ 0.05882353 -0.13071895  0.08496732]\n",
      " [-0.11764706  0.1503268   0.05228758]]\n"
     ]
    }
   ],
   "source": [
    "print(\"\\nInverse of A:\\n\", np.linalg.inv(A)) \n"
   ]
  },
  {
   "cell_type": "markdown",
   "metadata": {},
   "source": [
    "ماتریس به توان 3"
   ]
  },
  {
   "cell_type": "code",
   "execution_count": 56,
   "metadata": {},
   "outputs": [
    {
     "name": "stdout",
     "output_type": "stream",
     "text": [
      "\n",
      "Matrix A raised to power 3:\n",
      " [[336 162 228]\n",
      " [406 162 469]\n",
      " [698 702 905]]\n"
     ]
    }
   ],
   "source": [
    "print(\"\\nMatrix A raised to power 3:\\n\", np.linalg.matrix_power(A, 3))\n"
   ]
  },
  {
   "cell_type": "markdown",
   "metadata": {},
   "source": [
    "y=A.x حل معادلات چند معادله چند مجهول "
   ]
  },
  {
   "cell_type": "code",
   "execution_count": 57,
   "metadata": {},
   "outputs": [
    {
     "name": "stdout",
     "output_type": "stream",
     "text": [
      "X solved: \n",
      " [[0.10130719]\n",
      " [0.05228758]\n",
      " [0.33986928]]\n"
     ]
    }
   ],
   "source": [
    "y = np.array([[1], [2],[3]])\n",
    "x=np.linalg.solve(A, y)\n",
    "\n",
    "print(\"X solved: \\n\" , x)"
   ]
  }
 ],
 "metadata": {
  "kernelspec": {
   "display_name": "Python 3 (ipykernel)",
   "language": "python",
   "name": "python3"
  },
  "language_info": {
   "codemirror_mode": {
    "name": "ipython",
    "version": 3
   },
   "file_extension": ".py",
   "mimetype": "text/x-python",
   "name": "python",
   "nbconvert_exporter": "python",
   "pygments_lexer": "ipython3",
   "version": "3.9.13"
  }
 },
 "nbformat": 4,
 "nbformat_minor": 2
}
