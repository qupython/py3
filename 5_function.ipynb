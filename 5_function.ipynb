{
 "cells": [
  {
   "cell_type": "markdown",
   "id": "cd22837e",
   "metadata": {},
   "source": [
    "تعریف تابع "
   ]
  },
  {
   "cell_type": "code",
   "execution_count": null,
   "id": "910bcb65",
   "metadata": {},
   "outputs": [],
   "source": [
    "def amin():\n",
    "    print(\"اعداد را وارد  کنید:\")\n",
    "    x = int(input())\n",
    "    y = int(input())\n",
    "    print(x + y)\n",
    "\n",
    "print(\"Hello\")\n",
    "amin()\n",
    "print(\"bye\")"
   ]
  },
  {
   "cell_type": "code",
   "execution_count": 4,
   "id": "309b057f",
   "metadata": {},
   "outputs": [
    {
     "name": "stdout",
     "output_type": "stream",
     "text": [
      "15\n"
     ]
    }
   ],
   "source": [
    "def CalculateSum():                   \n",
    "    firstNumber = 10                 \n",
    "    secondNumber = 5                    \n",
    "    sum = firstNumber + secondNumber\n",
    "      \n",
    "    return sum                             \n",
    "  \n",
    "result = CalculateSum()\n",
    "print(result)"
   ]
  },
  {
   "cell_type": "code",
   "execution_count": null,
   "id": "7383a6aa",
   "metadata": {},
   "outputs": [],
   "source": []
  }
 ],
 "metadata": {
  "kernelspec": {
   "display_name": "Python 3 (ipykernel)",
   "language": "python",
   "name": "python3"
  },
  "language_info": {
   "codemirror_mode": {
    "name": "ipython",
    "version": 3
   },
   "file_extension": ".py",
   "mimetype": "text/x-python",
   "name": "python",
   "nbconvert_exporter": "python",
   "pygments_lexer": "ipython3",
   "version": "3.11.5"
  }
 },
 "nbformat": 4,
 "nbformat_minor": 5
}
