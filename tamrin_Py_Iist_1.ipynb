{
 "cells": [
  {
   "cell_type": "markdown",
   "metadata": {},
   "source": [
    "# تمرینها \n"
   ]
  },
  {
   "cell_type": "code",
   "execution_count": null,
   "metadata": {},
   "outputs": [],
   "source": []
  },
  {
   "cell_type": "code",
   "execution_count": 12,
   "metadata": {},
   "outputs": [
    {
     "name": "stdout",
     "output_type": "stream",
     "text": [
      "1\n",
      "2\n",
      "3\n"
     ]
    }
   ],
   "source": [
    "# پیمایش مستقیم بر روی اعضا لیست \n",
    "for x in [1, 2, 3]:\n",
    "    print (x)\n"
   ]
  },
  {
   "cell_type": "code",
   "execution_count": 13,
   "metadata": {},
   "outputs": [
    {
     "name": "stdout",
     "output_type": "stream",
     "text": [
      "1\n",
      "2\n",
      "3\n"
     ]
    }
   ],
   "source": [
    "# پیمایش با استفاده از متغیر شمارنده اندیس\n",
    "\n",
    "a=[1, 2, 3]    \n",
    "\n",
    "for i in range(0 , len(a)) :\n",
    "      print(a[i])\n"
   ]
  },
  {
   "cell_type": "code",
   "execution_count": 3,
   "metadata": {},
   "outputs": [
    {
     "name": "stdout",
     "output_type": "stream",
     "text": [
      "[1, 2, 3, 4, 55]\n"
     ]
    },
    {
     "data": {
      "text/plain": [
       "True"
      ]
     },
     "execution_count": 3,
     "metadata": {},
     "output_type": "execute_result"
    }
   ],
   "source": [
    "a = [1, 2, 3, 4]\n",
    "b = a #  don't Copy \n",
    "a.append(55)\n",
    "print(b)\n",
    "b is a\n"
   ]
  },
  {
   "cell_type": "code",
   "execution_count": 4,
   "metadata": {},
   "outputs": [
    {
     "name": "stdout",
     "output_type": "stream",
     "text": [
      "[1, 2, 3, 4]\n"
     ]
    },
    {
     "data": {
      "text/plain": [
       "False"
      ]
     },
     "execution_count": 4,
     "metadata": {},
     "output_type": "execute_result"
    }
   ],
   "source": [
    "a = [1, 2, 3, 4]\n",
    "b = list(a) #   b = copy.copy(a) \n",
    "a.append(55)  \n",
    "print(b) ; b is a"
   ]
  },
  {
   "cell_type": "code",
   "execution_count": 5,
   "metadata": {},
   "outputs": [
    {
     "name": "stdout",
     "output_type": "stream",
     "text": [
      "[1, 3, 5, 7, 9]\n"
     ]
    }
   ],
   "source": [
    "# انتخاب اعداد فرد  مثال \n",
    "#  append() \tAdds an element at the end of the list\n",
    "\n",
    "a=[1,2,3,4,5,6,7,8,9,10]\n",
    "odd_number=[]\n",
    "for i in range(10):\n",
    "    if a[i]%2 !=0:\n",
    "        odd_number.append(a[i])\n",
    "\n",
    "print(odd_number)"
   ]
  },
  {
   "cell_type": "code",
   "execution_count": 7,
   "metadata": {},
   "outputs": [
    {
     "name": "stdout",
     "output_type": "stream",
     "text": [
      "[1, 3, 5, 7, 9]\n"
     ]
    }
   ],
   "source": [
    "# حذف اعداد زوج \n",
    "# pop() \tRemoves the element at the specified position\n",
    "\n",
    "a=[1,2,3,4,5,6,7,8,9,10]\n",
    "i=0\n",
    "while i<len(a):\n",
    "    if a[i]%2 == 0:\n",
    "        a.pop(i)\n",
    "    i=i+1\n",
    "print(a) "
   ]
  },
  {
   "cell_type": "code",
   "execution_count": null,
   "metadata": {},
   "outputs": [],
   "source": [
    "# max(List)\n",
    "\n",
    "a = [9,12,22, 5, 17, 8, 9]\n",
    "max_value = a[0] \n",
    "max_index = 0\n",
    "for i in range(0,len(a)):\n",
    "    if a[i] > max_value:\n",
    "        max_value = a[i]\n",
    "        max_index = i\n",
    "print(\"Max value=\", max_value)\n",
    "print(\"Index of max value=\", max_index)\n"
   ]
  },
  {
   "cell_type": "code",
   "execution_count": 27,
   "metadata": {},
   "outputs": [
    {
     "name": "stdout",
     "output_type": "stream",
     "text": [
      "1 10 70\n"
     ]
    }
   ],
   "source": [
    "# لیست تو در تو\n",
    "b = [                                                    \n",
    "[1,2,3],\n",
    "[10,20,30],\n",
    "[50,60,70] ]\n",
    " \n",
    "print( b[0][0], b[1][0], b[2][2] )\n",
    "# شماره ایندکس لیست اصلی و دومین ایندکس مربوط به یک عضو در لیست انتخابی"
   ]
  },
  {
   "cell_type": "code",
   "execution_count": 21,
   "metadata": {},
   "outputs": [
    {
     "name": "stdout",
     "output_type": "stream",
     "text": [
      "[[0, 0, 0, 0], [0, 1, 2, 3], [0, 2, 4, 6]]\n"
     ]
    }
   ],
   "source": [
    "row = 3\n",
    "col = 4\n",
    "\n",
    "matrix = [[0, 0, 0, 0],\n",
    "[0, 0, 0, 0],\n",
    "[0, 0, 0, 0]]\n",
    "\n",
    "for r in range(row):\n",
    "    for c in range(col):\n",
    "     matrix[r][c] = r*c\n",
    "\n",
    "print(matrix)\n"
   ]
  },
  {
   "cell_type": "code",
   "execution_count": null,
   "metadata": {},
   "outputs": [],
   "source": []
  }
 ],
 "metadata": {
  "kernelspec": {
   "display_name": "Python 3 (ipykernel)",
   "language": "python",
   "name": "python3"
  },
  "language_info": {
   "codemirror_mode": {
    "name": "ipython",
    "version": 3
   },
   "file_extension": ".py",
   "mimetype": "text/x-python",
   "name": "python",
   "nbconvert_exporter": "python",
   "pygments_lexer": "ipython3",
   "version": "3.10.9"
  }
 },
 "nbformat": 4,
 "nbformat_minor": 2
}
